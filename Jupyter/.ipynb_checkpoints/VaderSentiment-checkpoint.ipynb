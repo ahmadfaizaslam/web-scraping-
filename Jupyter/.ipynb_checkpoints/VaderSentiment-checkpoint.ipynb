{
 "cells": [
  {
   "cell_type": "code",
   "execution_count": 1,
   "id": "607db6f9",
   "metadata": {},
   "outputs": [],
   "source": [
    "import pandas as pd\n",
    "from vaderSentiment.vaderSentiment import SentimentIntensityAnalyzer\n",
    "\n",
    "analyzer = SentimentIntensityAnalyzer()\n",
    "\n",
    "df = pd.read_excel(r'C:\\Users\\USER\\Desktop\\web-scraping-\\final.xlsx')"
   ]
  },
  {
   "cell_type": "code",
   "execution_count": 2,
   "id": "70047359",
   "metadata": {},
   "outputs": [
    {
     "name": "stdout",
     "output_type": "stream",
     "text": [
      "topic      object\n",
      "title      object\n",
      "article    object\n",
      "date       object\n",
      "link       object\n",
      "dtype: object\n"
     ]
    }
   ],
   "source": [
    "print(df.dtypes)\n"
   ]
  },
  {
   "cell_type": "code",
   "execution_count": 3,
   "id": "fc8079a5",
   "metadata": {},
   "outputs": [],
   "source": [
    "df[\"scores\"] = df[\"article\"].apply(lambda article: analyzer.polarity_scores(article))\n"
   ]
  },
  {
   "cell_type": "code",
   "execution_count": 4,
   "id": "d7de2daf",
   "metadata": {},
   "outputs": [
    {
     "data": {
      "text/html": [
       "<div>\n",
       "<style scoped>\n",
       "    .dataframe tbody tr th:only-of-type {\n",
       "        vertical-align: middle;\n",
       "    }\n",
       "\n",
       "    .dataframe tbody tr th {\n",
       "        vertical-align: top;\n",
       "    }\n",
       "\n",
       "    .dataframe thead th {\n",
       "        text-align: right;\n",
       "    }\n",
       "</style>\n",
       "<table border=\"1\" class=\"dataframe\">\n",
       "  <thead>\n",
       "    <tr style=\"text-align: right;\">\n",
       "      <th></th>\n",
       "      <th>topic</th>\n",
       "      <th>title</th>\n",
       "      <th>date</th>\n",
       "      <th>scores</th>\n",
       "    </tr>\n",
       "  </thead>\n",
       "  <tbody>\n",
       "    <tr>\n",
       "      <th>0</th>\n",
       "      <td>BUSINESS</td>\n",
       "      <td>MAHB faces double whammy of interstate ban, Tu...</td>\n",
       "      <td>May 4, 2021 @ 10:40am</td>\n",
       "      <td>{'neg': 0.122, 'neu': 0.812, 'pos': 0.066, 'co...</td>\n",
       "    </tr>\n",
       "    <tr>\n",
       "      <th>1</th>\n",
       "      <td>BUSINESS</td>\n",
       "      <td>RM opens at 4.09 against USD</td>\n",
       "      <td>May 3, 2021 @ 10:09am</td>\n",
       "      <td>{'neg': 0.045, 'neu': 0.902, 'pos': 0.053, 'co...</td>\n",
       "    </tr>\n",
       "    <tr>\n",
       "      <th>2</th>\n",
       "      <td>COLUMNISTS</td>\n",
       "      <td>Biden needs fresh thinking and more than one term</td>\n",
       "      <td>May 3, 2021 @ 12:10am</td>\n",
       "      <td>{'neg': 0.088, 'neu': 0.792, 'pos': 0.121, 'co...</td>\n",
       "    </tr>\n",
       "    <tr>\n",
       "      <th>3</th>\n",
       "      <td>SUNDAY VIBES</td>\n",
       "      <td>MONEY THOUGHTS: Ikigai — The uncommon key to c...</td>\n",
       "      <td>May 2, 2021 @ 8:30am</td>\n",
       "      <td>{'neg': 0.05, 'neu': 0.781, 'pos': 0.169, 'com...</td>\n",
       "    </tr>\n",
       "    <tr>\n",
       "      <th>4</th>\n",
       "      <td>BUSINESS</td>\n",
       "      <td>Labuan FSA appoints new chairman, director gen...</td>\n",
       "      <td>Apr 30, 2021 @ 4:15pm</td>\n",
       "      <td>{'neg': 0.016, 'neu': 0.921, 'pos': 0.063, 'co...</td>\n",
       "    </tr>\n",
       "    <tr>\n",
       "      <th>...</th>\n",
       "      <td>...</td>\n",
       "      <td>...</td>\n",
       "      <td>...</td>\n",
       "      <td>...</td>\n",
       "    </tr>\n",
       "    <tr>\n",
       "      <th>102</th>\n",
       "      <td>BUSINESS</td>\n",
       "      <td>RCEP signing helps boost ringgit on Monday</td>\n",
       "      <td>Nov 17, 2020 @ 11:16am</td>\n",
       "      <td>{'neg': 0.043, 'neu': 0.84, 'pos': 0.117, 'com...</td>\n",
       "    </tr>\n",
       "    <tr>\n",
       "      <th>103</th>\n",
       "      <td>BUSINESS</td>\n",
       "      <td>RM opens higher against USD</td>\n",
       "      <td>Nov 17, 2020 @ 10:25am</td>\n",
       "      <td>{'neg': 0.059, 'neu': 0.853, 'pos': 0.088, 'co...</td>\n",
       "    </tr>\n",
       "    <tr>\n",
       "      <th>104</th>\n",
       "      <td>BUSINESS</td>\n",
       "      <td>Experts hopeful of US re-engagement with Apec ...</td>\n",
       "      <td>Nov 16, 2020 @ 3:34pm</td>\n",
       "      <td>{'neg': 0.04, 'neu': 0.836, 'pos': 0.124, 'com...</td>\n",
       "    </tr>\n",
       "    <tr>\n",
       "      <th>105</th>\n",
       "      <td>NATION</td>\n",
       "      <td>In good position with largest budget in history</td>\n",
       "      <td>Nov 15, 2020 @ 8:31am</td>\n",
       "      <td>{'neg': 0.039, 'neu': 0.859, 'pos': 0.102, 'co...</td>\n",
       "    </tr>\n",
       "    <tr>\n",
       "      <th>106</th>\n",
       "      <td>BUSINESS</td>\n",
       "      <td>Ringgit up 2.9pct against dollar in Q3</td>\n",
       "      <td>Nov 13, 2020 @ 2:01pm</td>\n",
       "      <td>{'neg': 0.031, 'neu': 0.858, 'pos': 0.111, 'co...</td>\n",
       "    </tr>\n",
       "  </tbody>\n",
       "</table>\n",
       "<p>107 rows × 4 columns</p>\n",
       "</div>"
      ],
      "text/plain": [
       "            topic                                              title  \\\n",
       "0        BUSINESS  MAHB faces double whammy of interstate ban, Tu...   \n",
       "1        BUSINESS                       RM opens at 4.09 against USD   \n",
       "2      COLUMNISTS  Biden needs fresh thinking and more than one term   \n",
       "3    SUNDAY VIBES  MONEY THOUGHTS: Ikigai — The uncommon key to c...   \n",
       "4        BUSINESS  Labuan FSA appoints new chairman, director gen...   \n",
       "..            ...                                                ...   \n",
       "102      BUSINESS         RCEP signing helps boost ringgit on Monday   \n",
       "103      BUSINESS                        RM opens higher against USD   \n",
       "104      BUSINESS  Experts hopeful of US re-engagement with Apec ...   \n",
       "105        NATION    In good position with largest budget in history   \n",
       "106      BUSINESS             Ringgit up 2.9pct against dollar in Q3   \n",
       "\n",
       "                       date                                             scores  \n",
       "0     May 4, 2021 @ 10:40am  {'neg': 0.122, 'neu': 0.812, 'pos': 0.066, 'co...  \n",
       "1     May 3, 2021 @ 10:09am  {'neg': 0.045, 'neu': 0.902, 'pos': 0.053, 'co...  \n",
       "2     May 3, 2021 @ 12:10am  {'neg': 0.088, 'neu': 0.792, 'pos': 0.121, 'co...  \n",
       "3      May 2, 2021 @ 8:30am  {'neg': 0.05, 'neu': 0.781, 'pos': 0.169, 'com...  \n",
       "4     Apr 30, 2021 @ 4:15pm  {'neg': 0.016, 'neu': 0.921, 'pos': 0.063, 'co...  \n",
       "..                      ...                                                ...  \n",
       "102  Nov 17, 2020 @ 11:16am  {'neg': 0.043, 'neu': 0.84, 'pos': 0.117, 'com...  \n",
       "103  Nov 17, 2020 @ 10:25am  {'neg': 0.059, 'neu': 0.853, 'pos': 0.088, 'co...  \n",
       "104   Nov 16, 2020 @ 3:34pm  {'neg': 0.04, 'neu': 0.836, 'pos': 0.124, 'com...  \n",
       "105   Nov 15, 2020 @ 8:31am  {'neg': 0.039, 'neu': 0.859, 'pos': 0.102, 'co...  \n",
       "106   Nov 13, 2020 @ 2:01pm  {'neg': 0.031, 'neu': 0.858, 'pos': 0.111, 'co...  \n",
       "\n",
       "[107 rows x 4 columns]"
      ]
     },
     "execution_count": 4,
     "metadata": {},
     "output_type": "execute_result"
    }
   ],
   "source": [
    "df.drop(columns=[\"link\", \"article\"])\n"
   ]
  },
  {
   "cell_type": "code",
   "execution_count": 5,
   "id": "934a8d67",
   "metadata": {},
   "outputs": [
    {
     "ename": "NameError",
     "evalue": "name 'my_path' is not defined",
     "output_type": "error",
     "traceback": [
      "\u001b[1;31m---------------------------------------------------------------------------\u001b[0m",
      "\u001b[1;31mNameError\u001b[0m                                 Traceback (most recent call last)",
      "\u001b[1;32m<ipython-input-5-4582e41c1679>\u001b[0m in \u001b[0;36m<module>\u001b[1;34m\u001b[0m\n\u001b[1;32m----> 1\u001b[1;33m \u001b[0mdf\u001b[0m\u001b[1;33m.\u001b[0m\u001b[0mto_excel\u001b[0m\u001b[1;33m(\u001b[0m\u001b[0mmy_path\u001b[0m \u001b[1;33m+\u001b[0m \u001b[1;34mr\"\\\\sentiment.xlsx\"\u001b[0m\u001b[1;33m,\u001b[0m \u001b[0mengine\u001b[0m\u001b[1;33m=\u001b[0m\u001b[1;34m\"openpyxl\"\u001b[0m\u001b[1;33m,\u001b[0m \u001b[0mindex\u001b[0m\u001b[1;33m=\u001b[0m\u001b[1;32mFalse\u001b[0m\u001b[1;33m)\u001b[0m\u001b[1;33m\u001b[0m\u001b[1;33m\u001b[0m\u001b[0m\n\u001b[0m",
      "\u001b[1;31mNameError\u001b[0m: name 'my_path' is not defined"
     ]
    }
   ],
   "source": [
    "\n",
    "df.to_excel(\"C:\\Users\\USER\\Desktop\\web-scraping-\\sentiment.xlsx\", engine=\"openpyxl\", index=False)"
   ]
  },
  {
   "cell_type": "code",
   "execution_count": null,
   "id": "798238c3",
   "metadata": {},
   "outputs": [],
   "source": []
  }
 ],
 "metadata": {
  "kernelspec": {
   "display_name": "Python 3",
   "language": "python",
   "name": "python3"
  },
  "language_info": {
   "codemirror_mode": {
    "name": "ipython",
    "version": 3
   },
   "file_extension": ".py",
   "mimetype": "text/x-python",
   "name": "python",
   "nbconvert_exporter": "python",
   "pygments_lexer": "ipython3",
   "version": "3.9.0"
  }
 },
 "nbformat": 4,
 "nbformat_minor": 5
}
