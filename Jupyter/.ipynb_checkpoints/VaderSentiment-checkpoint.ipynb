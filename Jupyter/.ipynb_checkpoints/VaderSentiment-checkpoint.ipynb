{
 "cells": [
  {
   "cell_type": "code",
   "execution_count": 8,
   "id": "607db6f9",
   "metadata": {},
   "outputs": [],
   "source": [
    "import pandas as pd\n",
    "from vaderSentiment.vaderSentiment import SentimentIntensityAnalyzer\n",
    "\n",
    "analyzer = SentimentIntensityAnalyzer()\n",
    "\n",
    "df = pd.read_excel(r'C:\\Users\\faiza\\Desktop\\web-scraping-\\final.xlsx')"
   ]
  },
  {
   "cell_type": "code",
   "execution_count": 9,
   "id": "70047359",
   "metadata": {},
   "outputs": [
    {
     "output_type": "stream",
     "name": "stdout",
     "text": [
      "topic      object\ntitle      object\narticle    object\ndate       object\nlink       object\ndtype: object\n"
     ]
    }
   ],
   "source": [
    "print(df.dtypes)\n"
   ]
  },
  {
   "cell_type": "code",
   "execution_count": 12,
   "id": "fc8079a5",
   "metadata": {},
   "outputs": [],
   "source": [
    "df[\"scores\"] = df[\"article\"].apply(lambda article: analyzer.polarity_scores(article))\n",
    "df[\"compound\"] = df[\"article\"].apply(lambda article: analyzer.polarity_scores(article)['compound'])"
   ]
  },
  {
   "cell_type": "code",
   "execution_count": 13,
   "id": "d7de2daf",
   "metadata": {},
   "outputs": [
    {
     "output_type": "execute_result",
     "data": {
      "text/plain": [
       "            topic                                              title  \\\n",
       "0        BUSINESS  MAHB faces double whammy of interstate ban, Tu...   \n",
       "1        BUSINESS                       RM opens at 4.09 against USD   \n",
       "2      COLUMNISTS  Biden needs fresh thinking and more than one term   \n",
       "3    SUNDAY VIBES  MONEY THOUGHTS: Ikigai — The uncommon key to c...   \n",
       "4        BUSINESS  Labuan FSA appoints new chairman, director gen...   \n",
       "..            ...                                                ...   \n",
       "102      BUSINESS         RCEP signing helps boost ringgit on Monday   \n",
       "103      BUSINESS                        RM opens higher against USD   \n",
       "104      BUSINESS  Experts hopeful of US re-engagement with Apec ...   \n",
       "105        NATION    In good position with largest budget in history   \n",
       "106      BUSINESS             Ringgit up 2.9pct against dollar in Q3   \n",
       "\n",
       "                       date  \\\n",
       "0     May 4, 2021 @ 10:40am   \n",
       "1     May 3, 2021 @ 10:09am   \n",
       "2     May 3, 2021 @ 12:10am   \n",
       "3      May 2, 2021 @ 8:30am   \n",
       "4     Apr 30, 2021 @ 4:15pm   \n",
       "..                      ...   \n",
       "102  Nov 17, 2020 @ 11:16am   \n",
       "103  Nov 17, 2020 @ 10:25am   \n",
       "104   Nov 16, 2020 @ 3:34pm   \n",
       "105   Nov 15, 2020 @ 8:31am   \n",
       "106   Nov 13, 2020 @ 2:01pm   \n",
       "\n",
       "                                                scores  compound  \n",
       "0    {'neg': 0.122, 'neu': 0.812, 'pos': 0.066, 'co...   -0.9613  \n",
       "1    {'neg': 0.045, 'neu': 0.902, 'pos': 0.053, 'co...    0.3919  \n",
       "2    {'neg': 0.088, 'neu': 0.792, 'pos': 0.121, 'co...    0.9964  \n",
       "3    {'neg': 0.05, 'neu': 0.781, 'pos': 0.169, 'com...    0.9992  \n",
       "4    {'neg': 0.016, 'neu': 0.921, 'pos': 0.063, 'co...    0.8126  \n",
       "..                                                 ...       ...  \n",
       "102  {'neg': 0.043, 'neu': 0.84, 'pos': 0.117, 'com...    0.9824  \n",
       "103  {'neg': 0.059, 'neu': 0.853, 'pos': 0.088, 'co...    0.5719  \n",
       "104  {'neg': 0.04, 'neu': 0.836, 'pos': 0.124, 'com...    0.9981  \n",
       "105  {'neg': 0.039, 'neu': 0.859, 'pos': 0.102, 'co...    0.9993  \n",
       "106  {'neg': 0.031, 'neu': 0.858, 'pos': 0.111, 'co...    0.9578  \n",
       "\n",
       "[107 rows x 5 columns]"
      ],
      "text/html": "<div>\n<style scoped>\n    .dataframe tbody tr th:only-of-type {\n        vertical-align: middle;\n    }\n\n    .dataframe tbody tr th {\n        vertical-align: top;\n    }\n\n    .dataframe thead th {\n        text-align: right;\n    }\n</style>\n<table border=\"1\" class=\"dataframe\">\n  <thead>\n    <tr style=\"text-align: right;\">\n      <th></th>\n      <th>topic</th>\n      <th>title</th>\n      <th>date</th>\n      <th>scores</th>\n      <th>compound</th>\n    </tr>\n  </thead>\n  <tbody>\n    <tr>\n      <th>0</th>\n      <td>BUSINESS</td>\n      <td>MAHB faces double whammy of interstate ban, Tu...</td>\n      <td>May 4, 2021 @ 10:40am</td>\n      <td>{'neg': 0.122, 'neu': 0.812, 'pos': 0.066, 'co...</td>\n      <td>-0.9613</td>\n    </tr>\n    <tr>\n      <th>1</th>\n      <td>BUSINESS</td>\n      <td>RM opens at 4.09 against USD</td>\n      <td>May 3, 2021 @ 10:09am</td>\n      <td>{'neg': 0.045, 'neu': 0.902, 'pos': 0.053, 'co...</td>\n      <td>0.3919</td>\n    </tr>\n    <tr>\n      <th>2</th>\n      <td>COLUMNISTS</td>\n      <td>Biden needs fresh thinking and more than one term</td>\n      <td>May 3, 2021 @ 12:10am</td>\n      <td>{'neg': 0.088, 'neu': 0.792, 'pos': 0.121, 'co...</td>\n      <td>0.9964</td>\n    </tr>\n    <tr>\n      <th>3</th>\n      <td>SUNDAY VIBES</td>\n      <td>MONEY THOUGHTS: Ikigai — The uncommon key to c...</td>\n      <td>May 2, 2021 @ 8:30am</td>\n      <td>{'neg': 0.05, 'neu': 0.781, 'pos': 0.169, 'com...</td>\n      <td>0.9992</td>\n    </tr>\n    <tr>\n      <th>4</th>\n      <td>BUSINESS</td>\n      <td>Labuan FSA appoints new chairman, director gen...</td>\n      <td>Apr 30, 2021 @ 4:15pm</td>\n      <td>{'neg': 0.016, 'neu': 0.921, 'pos': 0.063, 'co...</td>\n      <td>0.8126</td>\n    </tr>\n    <tr>\n      <th>...</th>\n      <td>...</td>\n      <td>...</td>\n      <td>...</td>\n      <td>...</td>\n      <td>...</td>\n    </tr>\n    <tr>\n      <th>102</th>\n      <td>BUSINESS</td>\n      <td>RCEP signing helps boost ringgit on Monday</td>\n      <td>Nov 17, 2020 @ 11:16am</td>\n      <td>{'neg': 0.043, 'neu': 0.84, 'pos': 0.117, 'com...</td>\n      <td>0.9824</td>\n    </tr>\n    <tr>\n      <th>103</th>\n      <td>BUSINESS</td>\n      <td>RM opens higher against USD</td>\n      <td>Nov 17, 2020 @ 10:25am</td>\n      <td>{'neg': 0.059, 'neu': 0.853, 'pos': 0.088, 'co...</td>\n      <td>0.5719</td>\n    </tr>\n    <tr>\n      <th>104</th>\n      <td>BUSINESS</td>\n      <td>Experts hopeful of US re-engagement with Apec ...</td>\n      <td>Nov 16, 2020 @ 3:34pm</td>\n      <td>{'neg': 0.04, 'neu': 0.836, 'pos': 0.124, 'com...</td>\n      <td>0.9981</td>\n    </tr>\n    <tr>\n      <th>105</th>\n      <td>NATION</td>\n      <td>In good position with largest budget in history</td>\n      <td>Nov 15, 2020 @ 8:31am</td>\n      <td>{'neg': 0.039, 'neu': 0.859, 'pos': 0.102, 'co...</td>\n      <td>0.9993</td>\n    </tr>\n    <tr>\n      <th>106</th>\n      <td>BUSINESS</td>\n      <td>Ringgit up 2.9pct against dollar in Q3</td>\n      <td>Nov 13, 2020 @ 2:01pm</td>\n      <td>{'neg': 0.031, 'neu': 0.858, 'pos': 0.111, 'co...</td>\n      <td>0.9578</td>\n    </tr>\n  </tbody>\n</table>\n<p>107 rows × 5 columns</p>\n</div>"
     },
     "metadata": {},
     "execution_count": 13
    }
   ],
   "source": [
    "df.drop(columns=[\"link\", \"article\"])\n"
   ]
  },
  {
   "cell_type": "code",
   "execution_count": 16,
   "id": "934a8d67",
   "metadata": {},
   "outputs": [],
   "source": [
    "\n",
    "df.to_excel(r\"C:\\Users\\faiza\\Desktop\\web-scraping-\\sentiment.xlsx\", engine=\"openpyxl\", index=False)"
   ]
  },
  {
   "cell_type": "code",
   "execution_count": null,
   "id": "798238c3",
   "metadata": {},
   "outputs": [],
   "source": []
  }
 ],
 "metadata": {
  "kernelspec": {
   "name": "python3",
   "display_name": "Python 3.9.4 64-bit"
  },
  "language_info": {
   "codemirror_mode": {
    "name": "ipython",
    "version": 3
   },
   "file_extension": ".py",
   "mimetype": "text/x-python",
   "name": "python",
   "nbconvert_exporter": "python",
   "pygments_lexer": "ipython3",
   "version": "3.9.4"
  },
  "interpreter": {
   "hash": "324e30a20677de8ddfc530545c6d8b8fa96a383470f08370b8afefc4c9286904"
  }
 },
 "nbformat": 4,
 "nbformat_minor": 5
}